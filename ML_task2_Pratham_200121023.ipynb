{
 "cells": [
  {
   "cell_type": "code",
   "execution_count": 80,
   "metadata": {
    "scrolled": true
   },
   "outputs": [
    {
     "name": "stdout",
     "output_type": "stream",
     "text": [
      "Accuracy DesicionTree:90.89456869009585\n",
      "Accuracy KNN:86.74121405750799\n"
     ]
    }
   ],
   "source": [
    "import pandas as pd\n",
    "from sklearn.model_selection import train_test_split\n",
    "from sklearn.tree import DecisionTreeClassifier\n",
    "from sklearn.neighbors import KNeighborsClassifier\n",
    "from sklearn.metrics import accuracy_score\n",
    "import numpy as np\n",
    "\n",
    "#reading data from the csv file\n",
    "data = pd.read_csv(r\"C:\\Users\\prath\\Downloads\\task2.csv\")\n",
    "\n",
    "#correcting data\n",
    "data.Answer.replace(\"I don't use Tinder\",'No',inplace=True)\n",
    "#data.loc[data.Answer == 'No','Count'] = 0\n",
    "#data.loc[data.Answer=='No','Percentage'] = 0\n",
    "data.Answer.replace('No',0,inplace=True)\n",
    "data.Answer.replace('Yes',1,inplace=True)\n",
    "\n",
    "#split training and testing data\n",
    "train_set,test_set,train_label,test_label = train_test_split(data[{'Count','Percentage'}][:],data['It became a relationship'][:],test_size=0.33)\n",
    "\n",
    "#Ml model\n",
    "#hyperparameters with optimal output:\n",
    "relationship_model1 = DecisionTreeClassifier(random_state=1)\n",
    "relationship_model2 = KNeighborsClassifier(n_neighbors=6,weights='distance')\n",
    "#train ML model\n",
    "relationship_model1.fit(train_set,train_label)\n",
    "relationship_model2.fit(train_set,train_label)\n",
    "\n",
    "#checking accuracy for descision tree model\n",
    "predicted_y = relationship_model1.predict(test_set)\n",
    "diff = predicted_y - test_label\n",
    "test_num = len(test_label)\n",
    "total_right_prediction = (diff==0).sum()\n",
    "print(f\"Accuracy DesicionTree:{total_right_prediction*100/test_num}\")\n",
    "\n",
    "#checking accuracy of KNN model\n",
    "predicted_y = relationship_model2.predict(test_set)\n",
    "diff = predicted_y - test_label\n",
    "test_num = len(test_label)\n",
    "total_right_prediction = (diff==0).sum()\n",
    "print(f\"Accuracy KNN:{total_right_prediction*100/test_num}\")"
   ]
  }
 ],
 "metadata": {
  "kernelspec": {
   "display_name": "Python 3",
   "language": "python",
   "name": "python3"
  },
  "language_info": {
   "codemirror_mode": {
    "name": "ipython",
    "version": 3
   },
   "file_extension": ".py",
   "mimetype": "text/x-python",
   "name": "python",
   "nbconvert_exporter": "python",
   "pygments_lexer": "ipython3",
   "version": "3.8.5"
  }
 },
 "nbformat": 4,
 "nbformat_minor": 4
}
